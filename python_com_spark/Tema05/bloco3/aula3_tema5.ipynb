{
 "cells": [
  {
   "cell_type": "code",
   "execution_count": 4,
   "id": "6d114f91-9e1e-4725-930e-0ae67816f440",
   "metadata": {},
   "outputs": [
    {
     "name": "stdout",
     "output_type": "stream",
     "text": [
      "Defaulting to user installation because normal site-packages is not writeable\n",
      "Collecting tf-keras\n",
      "  Downloading tf_keras-2.17.0-py3-none-any.whl (1.7 MB)\n",
      "\u001b[2K     \u001b[38;2;114;156;31m━━━━━━━━━━━━━━━━━━━━━━━━━━━━━━━━━━━━━━━━\u001b[0m \u001b[32m1.7/1.7 MB\u001b[0m \u001b[31m11.9 MB/s\u001b[0m eta \u001b[36m0:00:00\u001b[0mm eta \u001b[36m0:00:01\u001b[0m:01\u001b[0m\n",
      "\u001b[?25hRequirement already satisfied: tensorflow<2.18,>=2.17 in /home/danielefg/.local/lib/python3.10/site-packages (from tf-keras) (2.17.0)\n",
      "Requirement already satisfied: protobuf!=4.21.0,!=4.21.1,!=4.21.2,!=4.21.3,!=4.21.4,!=4.21.5,<5.0.0dev,>=3.20.3 in /home/danielefg/.local/lib/python3.10/site-packages (from tensorflow<2.18,>=2.17->tf-keras) (4.25.5)\n",
      "Requirement already satisfied: packaging in /home/danielefg/.local/lib/python3.10/site-packages (from tensorflow<2.18,>=2.17->tf-keras) (24.1)\n",
      "Requirement already satisfied: astunparse>=1.6.0 in /home/danielefg/.local/lib/python3.10/site-packages (from tensorflow<2.18,>=2.17->tf-keras) (1.6.3)\n",
      "Requirement already satisfied: h5py>=3.10.0 in /home/danielefg/.local/lib/python3.10/site-packages (from tensorflow<2.18,>=2.17->tf-keras) (3.12.1)\n",
      "Requirement already satisfied: ml-dtypes<0.5.0,>=0.3.1 in /home/danielefg/.local/lib/python3.10/site-packages (from tensorflow<2.18,>=2.17->tf-keras) (0.4.1)\n",
      "Requirement already satisfied: flatbuffers>=24.3.25 in /home/danielefg/.local/lib/python3.10/site-packages (from tensorflow<2.18,>=2.17->tf-keras) (24.3.25)\n",
      "Requirement already satisfied: libclang>=13.0.0 in /home/danielefg/.local/lib/python3.10/site-packages (from tensorflow<2.18,>=2.17->tf-keras) (18.1.1)\n",
      "Requirement already satisfied: grpcio<2.0,>=1.24.3 in /home/danielefg/.local/lib/python3.10/site-packages (from tensorflow<2.18,>=2.17->tf-keras) (1.66.2)\n",
      "Requirement already satisfied: keras>=3.2.0 in /home/danielefg/.local/lib/python3.10/site-packages (from tensorflow<2.18,>=2.17->tf-keras) (3.6.0)\n",
      "Requirement already satisfied: tensorflow-io-gcs-filesystem>=0.23.1 in /home/danielefg/.local/lib/python3.10/site-packages (from tensorflow<2.18,>=2.17->tf-keras) (0.37.1)\n",
      "Requirement already satisfied: wrapt>=1.11.0 in /home/danielefg/.local/lib/python3.10/site-packages (from tensorflow<2.18,>=2.17->tf-keras) (1.16.0)\n",
      "Requirement already satisfied: numpy<2.0.0,>=1.23.5 in /home/danielefg/.local/lib/python3.10/site-packages (from tensorflow<2.18,>=2.17->tf-keras) (1.26.4)\n",
      "Requirement already satisfied: google-pasta>=0.1.1 in /home/danielefg/.local/lib/python3.10/site-packages (from tensorflow<2.18,>=2.17->tf-keras) (0.2.0)\n",
      "Requirement already satisfied: absl-py>=1.0.0 in /home/danielefg/.local/lib/python3.10/site-packages (from tensorflow<2.18,>=2.17->tf-keras) (2.1.0)\n",
      "Requirement already satisfied: gast!=0.5.0,!=0.5.1,!=0.5.2,>=0.2.1 in /home/danielefg/.local/lib/python3.10/site-packages (from tensorflow<2.18,>=2.17->tf-keras) (0.6.0)\n",
      "Requirement already satisfied: six>=1.12.0 in /usr/lib/python3/dist-packages (from tensorflow<2.18,>=2.17->tf-keras) (1.16.0)\n",
      "Requirement already satisfied: opt-einsum>=2.3.2 in /home/danielefg/.local/lib/python3.10/site-packages (from tensorflow<2.18,>=2.17->tf-keras) (3.4.0)\n",
      "Requirement already satisfied: setuptools in /usr/lib/python3/dist-packages (from tensorflow<2.18,>=2.17->tf-keras) (59.6.0)\n",
      "Requirement already satisfied: tensorboard<2.18,>=2.17 in /home/danielefg/.local/lib/python3.10/site-packages (from tensorflow<2.18,>=2.17->tf-keras) (2.17.1)\n",
      "Requirement already satisfied: termcolor>=1.1.0 in /home/danielefg/.local/lib/python3.10/site-packages (from tensorflow<2.18,>=2.17->tf-keras) (2.5.0)\n",
      "Requirement already satisfied: typing-extensions>=3.6.6 in /home/danielefg/.local/lib/python3.10/site-packages (from tensorflow<2.18,>=2.17->tf-keras) (4.12.2)\n",
      "Requirement already satisfied: requests<3,>=2.21.0 in /home/danielefg/.local/lib/python3.10/site-packages (from tensorflow<2.18,>=2.17->tf-keras) (2.32.3)\n",
      "Requirement already satisfied: wheel<1.0,>=0.23.0 in /usr/lib/python3/dist-packages (from astunparse>=1.6.0->tensorflow<2.18,>=2.17->tf-keras) (0.37.1)\n",
      "Requirement already satisfied: optree in /home/danielefg/.local/lib/python3.10/site-packages (from keras>=3.2.0->tensorflow<2.18,>=2.17->tf-keras) (0.13.0)\n",
      "Requirement already satisfied: namex in /home/danielefg/.local/lib/python3.10/site-packages (from keras>=3.2.0->tensorflow<2.18,>=2.17->tf-keras) (0.0.8)\n",
      "Requirement already satisfied: rich in /home/danielefg/.local/lib/python3.10/site-packages (from keras>=3.2.0->tensorflow<2.18,>=2.17->tf-keras) (13.8.1)\n",
      "Requirement already satisfied: idna<4,>=2.5 in /usr/lib/python3/dist-packages (from requests<3,>=2.21.0->tensorflow<2.18,>=2.17->tf-keras) (3.3)\n",
      "Requirement already satisfied: certifi>=2017.4.17 in /usr/lib/python3/dist-packages (from requests<3,>=2.21.0->tensorflow<2.18,>=2.17->tf-keras) (2020.6.20)\n",
      "Requirement already satisfied: charset-normalizer<4,>=2 in /home/danielefg/.local/lib/python3.10/site-packages (from requests<3,>=2.21.0->tensorflow<2.18,>=2.17->tf-keras) (3.3.2)\n",
      "Requirement already satisfied: urllib3<3,>=1.21.1 in /usr/lib/python3/dist-packages (from requests<3,>=2.21.0->tensorflow<2.18,>=2.17->tf-keras) (1.26.5)\n",
      "Requirement already satisfied: werkzeug>=1.0.1 in /home/danielefg/.local/lib/python3.10/site-packages (from tensorboard<2.18,>=2.17->tensorflow<2.18,>=2.17->tf-keras) (3.0.4)\n",
      "Requirement already satisfied: tensorboard-data-server<0.8.0,>=0.7.0 in /home/danielefg/.local/lib/python3.10/site-packages (from tensorboard<2.18,>=2.17->tensorflow<2.18,>=2.17->tf-keras) (0.7.2)\n",
      "Requirement already satisfied: markdown>=2.6.8 in /home/danielefg/.local/lib/python3.10/site-packages (from tensorboard<2.18,>=2.17->tensorflow<2.18,>=2.17->tf-keras) (3.7)\n",
      "Requirement already satisfied: MarkupSafe>=2.1.1 in /home/danielefg/.local/lib/python3.10/site-packages (from werkzeug>=1.0.1->tensorboard<2.18,>=2.17->tensorflow<2.18,>=2.17->tf-keras) (2.1.5)\n",
      "Requirement already satisfied: markdown-it-py>=2.2.0 in /home/danielefg/.local/lib/python3.10/site-packages (from rich->keras>=3.2.0->tensorflow<2.18,>=2.17->tf-keras) (3.0.0)\n",
      "Requirement already satisfied: pygments<3.0.0,>=2.13.0 in /home/danielefg/.local/lib/python3.10/site-packages (from rich->keras>=3.2.0->tensorflow<2.18,>=2.17->tf-keras) (2.18.0)\n",
      "Requirement already satisfied: mdurl~=0.1 in /home/danielefg/.local/lib/python3.10/site-packages (from markdown-it-py>=2.2.0->rich->keras>=3.2.0->tensorflow<2.18,>=2.17->tf-keras) (0.1.2)\n",
      "Installing collected packages: tf-keras\n",
      "Successfully installed tf-keras-2.17.0\n",
      "Note: you may need to restart the kernel to use updated packages.\n"
     ]
    }
   ],
   "source": [
    "# pip install opencv-python deepface pandas\n",
    "# pip install tf-keras"
   ]
  },
  {
   "cell_type": "code",
   "execution_count": 10,
   "id": "ffd36295-e54a-43e1-9442-dda1fc9e22b9",
   "metadata": {
    "scrolled": true
   },
   "outputs": [
    {
     "name": "stderr",
     "output_type": "stream",
     "text": [
      "Action: emotion: 100%|█████████████████████████████████████████████████████████████████████████████████████████████████████████████████████████████████████████████████████████| 2/2 [00:00<00:00, 10.67it/s]\n"
     ]
    },
    {
     "name": "stdout",
     "output_type": "stream",
     "text": [
      "Resultado da imagem face6.jpg\n",
      "Idade 38\n",
      "Emoção tristeza\n",
      "\n",
      "---------------------------------\n"
     ]
    },
    {
     "name": "stderr",
     "output_type": "stream",
     "text": [
      "Action: emotion: 100%|█████████████████████████████████████████████████████████████████████████████████████████████████████████████████████████████████████████████████████████| 2/2 [00:00<00:00,  9.34it/s]\n"
     ]
    },
    {
     "name": "stdout",
     "output_type": "stream",
     "text": [
      "Resultado da imagem face7.jpg\n",
      "Idade 43\n",
      "Emoção surpresa\n",
      "\n",
      "---------------------------------\n"
     ]
    }
   ],
   "source": [
    "import cv2\n",
    "from deepface import DeepFace\n",
    "import os\n",
    "\n",
    "arquivos =  os.listdir(\"./img\")\n",
    "# print(arquivos)\n",
    "for arquivo in arquivos: \n",
    "    #ler nossa imagem\n",
    "    imagem = cv2.imread(f\"img/{arquivo}\")\n",
    "    #print(imagem)\n",
    "    # passar imagem para deepface\n",
    "    resultado = DeepFace.analyze(imagem, actions=(\"age\", \"emotion\"))\n",
    "    array_emocoes = {\n",
    "        'angry' :  'raiva',\n",
    "        'disgust' :  'nojo',\n",
    "        'fear' :  'medo',\n",
    "        'happy' :  'felicidade',\n",
    "        'sad' :  'tristeza',\n",
    "        'surprise' :  'surpresa',\n",
    "        'neutral' :  'neutro',\n",
    "    }\n",
    "    idade = resultado[0]['age']  \n",
    "    emocao = array_emocoes[resultado[0]['dominant_emotion']]\n",
    "    # ver resultado da analise\n",
    "    print(f\"Resultado da imagem {arquivo}\")\n",
    "    print(f\"Idade {idade}\")\n",
    "    print(f\"Emoção {emocao}\")\n",
    "    print()\n",
    "    print(\"---------------------------------\")\n",
    "\n",
    "    texto_imagem = f\"Idade {idade}, {emocao}\"\n",
    "    fonte = cv2.FONT_HERSHEY_SIMPLEX\n",
    "    posicao_texto = (150, 150)\n",
    "\n",
    "\n",
    "    \n",
    "    imagem = cv2.putText(imagem, texto_imagem, posicao_texto,fonte, 5, (255, 0, 0), 8, cv2.LINE_AA)\n",
    "    # imagem_redimensionada = cv2.resize(imagem, (800, 533))\n",
    "\n",
    "    cv2.imwrite(f\"output/{arquivo}\", imagem)\n",
    "\n",
    "    cv2.imshow(f\"Resultado - {arquivo}\", imagem)\n",
    "    cv2.waitKey(0)\n",
    "    cv2.destroyAllWindows()\n",
    "    #print(resultado)\n"
   ]
  },
  {
   "cell_type": "code",
   "execution_count": 6,
   "id": "162c4b6e-1c76-47c6-a121-68ac719a1ea4",
   "metadata": {},
   "outputs": [
    {
     "name": "stdout",
     "output_type": "stream",
     "text": [
      "Name: deepface\n",
      "Version: 0.0.93\n",
      "Summary: A Lightweight Face Recognition and Facial Attribute Analysis Framework (Age, Gender, Emotion, Race) for Python\n",
      "Home-page: https://github.com/serengil/deepface\n",
      "Author: Sefik Ilkin Serengil\n",
      "Author-email: serengil@gmail.com\n",
      "License: MIT\n",
      "Location: /home/danielefg/.local/lib/python3.10/site-packages\n",
      "Requires: fire, Flask, flask-cors, gdown, gunicorn, keras, mtcnn, numpy, opencv-python, pandas, Pillow, requests, retina-face, tensorflow, tqdm\n",
      "Required-by: \n",
      "Note: you may need to restart the kernel to use updated packages.\n"
     ]
    }
   ],
   "source": [
    "# pip show deepface\n"
   ]
  },
  {
   "cell_type": "code",
   "execution_count": null,
   "id": "cdf04001-321a-4c9c-a373-91c50f168ec4",
   "metadata": {},
   "outputs": [],
   "source": [
    "# pip uninstall deepface\n",
    "#pip install deepface\n"
   ]
  }
 ],
 "metadata": {
  "kernelspec": {
   "display_name": "Python 3 (ipykernel)",
   "language": "python",
   "name": "python3"
  },
  "language_info": {
   "codemirror_mode": {
    "name": "ipython",
    "version": 3
   },
   "file_extension": ".py",
   "mimetype": "text/x-python",
   "name": "python",
   "nbconvert_exporter": "python",
   "pygments_lexer": "ipython3",
   "version": "3.10.12"
  }
 },
 "nbformat": 4,
 "nbformat_minor": 5
}
