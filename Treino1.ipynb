{
  "nbformat": 4,
  "nbformat_minor": 0,
  "metadata": {
    "colab": {
      "provenance": [],
      "authorship_tag": "ABX9TyPYeMCusdI3Fubq5h2g2aWV",
      "include_colab_link": true
    },
    "kernelspec": {
      "name": "python3",
      "display_name": "Python 3"
    },
    "language_info": {
      "name": "python"
    }
  },
  "cells": [
    {
      "cell_type": "markdown",
      "metadata": {
        "id": "view-in-github",
        "colab_type": "text"
      },
      "source": [
        "<a href=\"https://colab.research.google.com/github/DanieleFG/Ciencias_de_Dados/blob/master/Treino1.ipynb\" target=\"_parent\"><img src=\"https://colab.research.google.com/assets/colab-badge.svg\" alt=\"Open In Colab\"/></a>"
      ]
    },
    {
      "cell_type": "code",
      "execution_count": 2,
      "metadata": {
        "colab": {
          "base_uri": "https://localhost:8080/"
        },
        "id": "jYm-WF_qoHyP",
        "outputId": "f649fb22-7c77-493e-f380-9056e9273a7e"
      },
      "outputs": [
        {
          "output_type": "stream",
          "name": "stdout",
          "text": [
            "Dados Originais\n",
            "   produto  Quantidade  preço\n",
            "0  monitor         3.0    500\n",
            "1  tablete         1.0   8000\n",
            "2    mouse         NaN     30\n",
            "3  teclado         2.0     90\n",
            "4      cpu         5.0    780\n",
            "5  teclado         1.0     80\n",
            "6  headset         NaN    300\n",
            "\n",
            "\n",
            "Informaçoes do Data Frame \n",
            "   produto  Quantidade  preço\n",
            "0  monitor         3.0    500\n",
            "1  tablete         1.0   8000\n",
            "2    mouse         NaN     30\n",
            "3  teclado         2.0     90\n",
            "4      cpu         5.0    780\n",
            "5  teclado         1.0     80\n",
            "6  headset         NaN    300\n",
            "\n",
            "\n",
            "Dados Atualizados\n",
            "   produto  Quantidade  preço  valor_total\n",
            "0  monitor         3.0    500       1500.0\n",
            "1  tablete         1.0   8000       8000.0\n",
            "2    mouse         2.0     30         60.0\n",
            "3  teclado         2.0     90        180.0\n",
            "4      cpu         5.0    780       3900.0\n",
            "5  teclado         1.0     80         80.0\n",
            "6  headset         2.0    300        600.0\n",
            "\n",
            "\n",
            "Informaçoes do Data Frame \n",
            "   produto  Quantidade  preço  valor_total\n",
            "0  monitor         3.0    500       1500.0\n",
            "1  tablete         1.0   8000       8000.0\n",
            "2    mouse         2.0     30         60.0\n",
            "3  teclado         2.0     90        180.0\n",
            "4      cpu         5.0    780       3900.0\n",
            "5  teclado         1.0     80         80.0\n",
            "6  headset         2.0    300        600.0\n"
          ]
        },
        {
          "output_type": "stream",
          "name": "stderr",
          "text": [
            "<ipython-input-2-fb64953d0b7e>:19: FutureWarning: A value is trying to be set on a copy of a DataFrame or Series through chained assignment using an inplace method.\n",
            "The behavior will change in pandas 3.0. This inplace method will never work because the intermediate object on which we are setting values always behaves as a copy.\n",
            "\n",
            "For example, when doing 'df[col].method(value, inplace=True)', try using 'df.method({col: value}, inplace=True)' or df[col] = df[col].method(value) instead, to perform the operation inplace on the original object.\n",
            "\n",
            "\n",
            "  df['Quantidade'].fillna(df['Quantidade'].median(), inplace=True)\n"
          ]
        }
      ],
      "source": [
        "import pandas as pd\n",
        "import numpy as np\n",
        "\n",
        "df = pd.read_csv('testepandas.csv')\n",
        "\n",
        "print(\"Dados Originais\")\n",
        "print(df)\n",
        "print(\"\")\n",
        "print(\"\")\n",
        "\n",
        "\n",
        "print(\"Informaçoes do Data Frame \")\n",
        "print(df)\n",
        "print(\"\")\n",
        "print(\"\")\n",
        "\n",
        "\n",
        "\n",
        "df['Quantidade'].fillna(df['Quantidade'].median(), inplace=True)\n",
        "df['valor_total'] = df['Quantidade'] * df['preço']\n",
        "\n",
        "df.drop_duplicates(inplace=True)\n",
        "df = df.round({'preço': 2, 'valor_total': 2})\n",
        "\n",
        "df.to_csv('testepandas_processados.csv', index=False)\n",
        "\n",
        "print(\"Dados Atualizados\")\n",
        "print(df)\n",
        "print(\"\")\n",
        "print(\"\")\n",
        "print(\"Informaçoes do Data Frame \")\n",
        "print(df)\n"
      ]
    }
  ]
}